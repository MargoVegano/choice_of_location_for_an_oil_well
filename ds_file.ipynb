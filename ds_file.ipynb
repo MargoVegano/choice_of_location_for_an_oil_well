{
 "cells": [
  {
   "cell_type": "markdown",
   "metadata": {},
   "source": [
    "Привет! меня зовут Люман Аблаев. Сегодня я проверю твой проект.\n",
    "<br> Дальнейшее общение будет происходить на \"ты\" если это не вызывает никаких проблем.\n",
    "<br> Желательно реагировать на каждый мой комментарий ('исправил', 'не понятно как исправить ошибку', ...)\n",
    "<br> Пожалуйста, не удаляй комментарии ревьюера, так как они повышают качество повторного ревью.\n",
    "\n",
    "Комментарии будут в <font color='green'>зеленой</font>, <font color='blue'>синей</font> или <font color='red'>красной</font> рамках:\n",
    "\n",
    "\n",
    "<div class=\"alert alert-block alert-success\">\n",
    "<b>Успех:</b> Если все сделано отлично\n",
    "</div>\n",
    "\n",
    "<div class=\"alert alert-block alert-info\">\n",
    "<b>Совет: </b> Если можно немного улучшить\n",
    "</div>\n",
    "\n",
    "<div class=\"alert alert-block alert-danger\">\n",
    "<b>Ошибка:</b> Если требуются исправления. Работа не может быть принята с красными комментариями.\n",
    "</div>\n",
    "\n",
    "-------------------\n",
    "\n",
    "Будет очень хорошо, если ты будешь помечать свои действия следующим образом:\n",
    "<div class=\"alert alert-block alert-warning\">\n",
    "<b>Комментарий студента:</b> ..\n",
    "</div>\n",
    "<div class=\"alert alert-block alert-warning\">\n",
    "<b>Изменения:</b> Были внесены следующие изменения ...\n",
    "</div>\n",
    "\n",
    "<font color='orange' style='font-size:24px; font-weight:bold'>Общее впечатление</font>\n",
    "* Спасибо за  качественную работу, мне она понравилась!\n",
    "- Я оставил некоторые советы надеюсь они будут полезными или интересными.\n",
    "- Техника бутстрап применилась корректно, было проведено тщательное исследование и выбран правильный регион!\n",
    "- Отправляю проект назад, чтобы у тебя была возможность задать вопросы, если они у тебя есть. Если их нет, то можешь просто отправить проект еще раз и я его зачту\n"
   ]
  },
  {
   "cell_type": "markdown",
   "metadata": {},
   "source": [
    "# Выбор локации для скважины"
   ]
  },
  {
   "cell_type": "markdown",
   "metadata": {},
   "source": [
    "Допустим, вы работаете в добывающей компании «ГлавРосГосНефть». Нужно решить, где бурить новую скважину.\n",
    "\n",
    "Вам предоставлены пробы нефти в трёх регионах: в каждом 10 000 месторождений, где измерили качество нефти и объём её запасов. Постройте модель машинного обучения, которая поможет определить регион, где добыча принесёт наибольшую прибыль. Проанализируйте возможную прибыль и риски техникой *Bootstrap.*\n",
    "\n",
    "Шаги для выбора локации:\n",
    "\n",
    "- В избранном регионе ищут месторождения, для каждого определяют значения признаков;\n",
    "- Строят модель и оценивают объём запасов;\n",
    "- Выбирают месторождения с самым высокими оценками значений. Количество месторождений зависит от бюджета компании и стоимости разработки одной скважины;\n",
    "- Прибыль равна суммарной прибыли отобранных месторождений."
   ]
  },
  {
   "cell_type": "markdown",
   "metadata": {},
   "source": [
    "## Загрузка и подготовка данных"
   ]
  },
  {
   "cell_type": "code",
   "execution_count": 6,
   "metadata": {},
   "outputs": [],
   "source": [
    "#импортируем все необходимые библиотеки и инструменты\n",
    "\n",
    "import pandas as pd\n",
    "import numpy as np\n",
    "import matplotlib.pyplot as plt\n",
    "\n",
    "from sklearn.model_selection import train_test_split\n",
    "from sklearn.linear_model import LinearRegression\n",
    "from sklearn.metrics import mean_squared_error\n",
    "\n",
    "from scipy import stats as st\n",
    "\n",
    "import warnings\n",
    "warnings.filterwarnings(\"ignore\")"
   ]
  },
  {
   "cell_type": "markdown",
   "metadata": {},
   "source": [
    "\n",
    "<div class=\"alert alert-block alert-success\">\n",
    "<b>Успех:</b> Импорты  на месте\n",
    "</div>\n"
   ]
  },
  {
   "cell_type": "code",
   "execution_count": 7,
   "metadata": {},
   "outputs": [],
   "source": [
    "#загрузим имеющиеся данные\n",
    "\n",
    "geo_0 = pd.read_csv('/datasets/geo_data_0.csv')\n",
    "geo_1 = pd.read_csv('/datasets/geo_data_1.csv')\n",
    "geo_2 = pd.read_csv('/datasets/geo_data_2.csv')"
   ]
  },
  {
   "cell_type": "code",
   "execution_count": 8,
   "metadata": {},
   "outputs": [],
   "source": [
    "#чтобы не повторять код для каждого ДФ напишем функцию для получения информации о каждом\n",
    "\n",
    "def info_df(df):\n",
    "    print('ИНФОРМАЦИЯ О ДАТАФРЕЙМЕ')\n",
    "    print()\n",
    "    display(df.head(5))\n",
    "    df.info()\n",
    "    print()\n",
    "    print('***Матрица корреляции***')\n",
    "    print()\n",
    "    display(df.corr())\n",
    "    print()\n",
    "    print('***Характеристики выборки***')\n",
    "    print()\n",
    "    display(df.describe())\n",
    "    df.plot (y='product', kind='hist', bins=25)\n",
    "    plt.title ('Рапределение объема запасов в скважинах')\n",
    "    print()"
   ]
  },
  {
   "cell_type": "markdown",
   "metadata": {},
   "source": [
    "\n",
    "<div class=\"alert alert-block alert-success\">\n",
    "<b>Успех:</b> Хороший помощник\n",
    "</div>\n"
   ]
  },
  {
   "cell_type": "code",
   "execution_count": 9,
   "metadata": {},
   "outputs": [
    {
     "name": "stdout",
     "output_type": "stream",
     "text": [
      "ИНФОРМАЦИЯ О ДАТАФРЕЙМЕ\n",
      "\n"
     ]
    },
    {
     "data": {
      "text/html": [
       "<div>\n",
       "<style scoped>\n",
       "    .dataframe tbody tr th:only-of-type {\n",
       "        vertical-align: middle;\n",
       "    }\n",
       "\n",
       "    .dataframe tbody tr th {\n",
       "        vertical-align: top;\n",
       "    }\n",
       "\n",
       "    .dataframe thead th {\n",
       "        text-align: right;\n",
       "    }\n",
       "</style>\n",
       "<table border=\"1\" class=\"dataframe\">\n",
       "  <thead>\n",
       "    <tr style=\"text-align: right;\">\n",
       "      <th></th>\n",
       "      <th>id</th>\n",
       "      <th>f0</th>\n",
       "      <th>f1</th>\n",
       "      <th>f2</th>\n",
       "      <th>product</th>\n",
       "    </tr>\n",
       "  </thead>\n",
       "  <tbody>\n",
       "    <tr>\n",
       "      <th>0</th>\n",
       "      <td>txEyH</td>\n",
       "      <td>0.705745</td>\n",
       "      <td>-0.497823</td>\n",
       "      <td>1.221170</td>\n",
       "      <td>105.280062</td>\n",
       "    </tr>\n",
       "    <tr>\n",
       "      <th>1</th>\n",
       "      <td>2acmU</td>\n",
       "      <td>1.334711</td>\n",
       "      <td>-0.340164</td>\n",
       "      <td>4.365080</td>\n",
       "      <td>73.037750</td>\n",
       "    </tr>\n",
       "    <tr>\n",
       "      <th>2</th>\n",
       "      <td>409Wp</td>\n",
       "      <td>1.022732</td>\n",
       "      <td>0.151990</td>\n",
       "      <td>1.419926</td>\n",
       "      <td>85.265647</td>\n",
       "    </tr>\n",
       "    <tr>\n",
       "      <th>3</th>\n",
       "      <td>iJLyR</td>\n",
       "      <td>-0.032172</td>\n",
       "      <td>0.139033</td>\n",
       "      <td>2.978566</td>\n",
       "      <td>168.620776</td>\n",
       "    </tr>\n",
       "    <tr>\n",
       "      <th>4</th>\n",
       "      <td>Xdl7t</td>\n",
       "      <td>1.988431</td>\n",
       "      <td>0.155413</td>\n",
       "      <td>4.751769</td>\n",
       "      <td>154.036647</td>\n",
       "    </tr>\n",
       "  </tbody>\n",
       "</table>\n",
       "</div>"
      ],
      "text/plain": [
       "      id        f0        f1        f2     product\n",
       "0  txEyH  0.705745 -0.497823  1.221170  105.280062\n",
       "1  2acmU  1.334711 -0.340164  4.365080   73.037750\n",
       "2  409Wp  1.022732  0.151990  1.419926   85.265647\n",
       "3  iJLyR -0.032172  0.139033  2.978566  168.620776\n",
       "4  Xdl7t  1.988431  0.155413  4.751769  154.036647"
      ]
     },
     "metadata": {},
     "output_type": "display_data"
    },
    {
     "name": "stdout",
     "output_type": "stream",
     "text": [
      "<class 'pandas.core.frame.DataFrame'>\n",
      "RangeIndex: 100000 entries, 0 to 99999\n",
      "Data columns (total 5 columns):\n",
      " #   Column   Non-Null Count   Dtype  \n",
      "---  ------   --------------   -----  \n",
      " 0   id       100000 non-null  object \n",
      " 1   f0       100000 non-null  float64\n",
      " 2   f1       100000 non-null  float64\n",
      " 3   f2       100000 non-null  float64\n",
      " 4   product  100000 non-null  float64\n",
      "dtypes: float64(4), object(1)\n",
      "memory usage: 3.8+ MB\n",
      "\n",
      "***Матрица корреляции***\n",
      "\n"
     ]
    },
    {
     "data": {
      "text/html": [
       "<div>\n",
       "<style scoped>\n",
       "    .dataframe tbody tr th:only-of-type {\n",
       "        vertical-align: middle;\n",
       "    }\n",
       "\n",
       "    .dataframe tbody tr th {\n",
       "        vertical-align: top;\n",
       "    }\n",
       "\n",
       "    .dataframe thead th {\n",
       "        text-align: right;\n",
       "    }\n",
       "</style>\n",
       "<table border=\"1\" class=\"dataframe\">\n",
       "  <thead>\n",
       "    <tr style=\"text-align: right;\">\n",
       "      <th></th>\n",
       "      <th>f0</th>\n",
       "      <th>f1</th>\n",
       "      <th>f2</th>\n",
       "      <th>product</th>\n",
       "    </tr>\n",
       "  </thead>\n",
       "  <tbody>\n",
       "    <tr>\n",
       "      <th>f0</th>\n",
       "      <td>1.000000</td>\n",
       "      <td>-0.440723</td>\n",
       "      <td>-0.003153</td>\n",
       "      <td>0.143536</td>\n",
       "    </tr>\n",
       "    <tr>\n",
       "      <th>f1</th>\n",
       "      <td>-0.440723</td>\n",
       "      <td>1.000000</td>\n",
       "      <td>0.001724</td>\n",
       "      <td>-0.192356</td>\n",
       "    </tr>\n",
       "    <tr>\n",
       "      <th>f2</th>\n",
       "      <td>-0.003153</td>\n",
       "      <td>0.001724</td>\n",
       "      <td>1.000000</td>\n",
       "      <td>0.483663</td>\n",
       "    </tr>\n",
       "    <tr>\n",
       "      <th>product</th>\n",
       "      <td>0.143536</td>\n",
       "      <td>-0.192356</td>\n",
       "      <td>0.483663</td>\n",
       "      <td>1.000000</td>\n",
       "    </tr>\n",
       "  </tbody>\n",
       "</table>\n",
       "</div>"
      ],
      "text/plain": [
       "               f0        f1        f2   product\n",
       "f0       1.000000 -0.440723 -0.003153  0.143536\n",
       "f1      -0.440723  1.000000  0.001724 -0.192356\n",
       "f2      -0.003153  0.001724  1.000000  0.483663\n",
       "product  0.143536 -0.192356  0.483663  1.000000"
      ]
     },
     "metadata": {},
     "output_type": "display_data"
    },
    {
     "name": "stdout",
     "output_type": "stream",
     "text": [
      "\n",
      "***Характеристики выборки***\n",
      "\n"
     ]
    },
    {
     "data": {
      "text/html": [
       "<div>\n",
       "<style scoped>\n",
       "    .dataframe tbody tr th:only-of-type {\n",
       "        vertical-align: middle;\n",
       "    }\n",
       "\n",
       "    .dataframe tbody tr th {\n",
       "        vertical-align: top;\n",
       "    }\n",
       "\n",
       "    .dataframe thead th {\n",
       "        text-align: right;\n",
       "    }\n",
       "</style>\n",
       "<table border=\"1\" class=\"dataframe\">\n",
       "  <thead>\n",
       "    <tr style=\"text-align: right;\">\n",
       "      <th></th>\n",
       "      <th>f0</th>\n",
       "      <th>f1</th>\n",
       "      <th>f2</th>\n",
       "      <th>product</th>\n",
       "    </tr>\n",
       "  </thead>\n",
       "  <tbody>\n",
       "    <tr>\n",
       "      <th>count</th>\n",
       "      <td>100000.000000</td>\n",
       "      <td>100000.000000</td>\n",
       "      <td>100000.000000</td>\n",
       "      <td>100000.000000</td>\n",
       "    </tr>\n",
       "    <tr>\n",
       "      <th>mean</th>\n",
       "      <td>0.500419</td>\n",
       "      <td>0.250143</td>\n",
       "      <td>2.502647</td>\n",
       "      <td>92.500000</td>\n",
       "    </tr>\n",
       "    <tr>\n",
       "      <th>std</th>\n",
       "      <td>0.871832</td>\n",
       "      <td>0.504433</td>\n",
       "      <td>3.248248</td>\n",
       "      <td>44.288691</td>\n",
       "    </tr>\n",
       "    <tr>\n",
       "      <th>min</th>\n",
       "      <td>-1.408605</td>\n",
       "      <td>-0.848218</td>\n",
       "      <td>-12.088328</td>\n",
       "      <td>0.000000</td>\n",
       "    </tr>\n",
       "    <tr>\n",
       "      <th>25%</th>\n",
       "      <td>-0.072580</td>\n",
       "      <td>-0.200881</td>\n",
       "      <td>0.287748</td>\n",
       "      <td>56.497507</td>\n",
       "    </tr>\n",
       "    <tr>\n",
       "      <th>50%</th>\n",
       "      <td>0.502360</td>\n",
       "      <td>0.250252</td>\n",
       "      <td>2.515969</td>\n",
       "      <td>91.849972</td>\n",
       "    </tr>\n",
       "    <tr>\n",
       "      <th>75%</th>\n",
       "      <td>1.073581</td>\n",
       "      <td>0.700646</td>\n",
       "      <td>4.715088</td>\n",
       "      <td>128.564089</td>\n",
       "    </tr>\n",
       "    <tr>\n",
       "      <th>max</th>\n",
       "      <td>2.362331</td>\n",
       "      <td>1.343769</td>\n",
       "      <td>16.003790</td>\n",
       "      <td>185.364347</td>\n",
       "    </tr>\n",
       "  </tbody>\n",
       "</table>\n",
       "</div>"
      ],
      "text/plain": [
       "                  f0             f1             f2        product\n",
       "count  100000.000000  100000.000000  100000.000000  100000.000000\n",
       "mean        0.500419       0.250143       2.502647      92.500000\n",
       "std         0.871832       0.504433       3.248248      44.288691\n",
       "min        -1.408605      -0.848218     -12.088328       0.000000\n",
       "25%        -0.072580      -0.200881       0.287748      56.497507\n",
       "50%         0.502360       0.250252       2.515969      91.849972\n",
       "75%         1.073581       0.700646       4.715088     128.564089\n",
       "max         2.362331       1.343769      16.003790     185.364347"
      ]
     },
     "metadata": {},
     "output_type": "display_data"
    },
    {
     "name": "stdout",
     "output_type": "stream",
     "text": [
      "\n",
      "ИНФОРМАЦИЯ О ДАТАФРЕЙМЕ\n",
      "\n"
     ]
    },
    {
     "data": {
      "text/html": [
       "<div>\n",
       "<style scoped>\n",
       "    .dataframe tbody tr th:only-of-type {\n",
       "        vertical-align: middle;\n",
       "    }\n",
       "\n",
       "    .dataframe tbody tr th {\n",
       "        vertical-align: top;\n",
       "    }\n",
       "\n",
       "    .dataframe thead th {\n",
       "        text-align: right;\n",
       "    }\n",
       "</style>\n",
       "<table border=\"1\" class=\"dataframe\">\n",
       "  <thead>\n",
       "    <tr style=\"text-align: right;\">\n",
       "      <th></th>\n",
       "      <th>id</th>\n",
       "      <th>f0</th>\n",
       "      <th>f1</th>\n",
       "      <th>f2</th>\n",
       "      <th>product</th>\n",
       "    </tr>\n",
       "  </thead>\n",
       "  <tbody>\n",
       "    <tr>\n",
       "      <th>0</th>\n",
       "      <td>kBEdx</td>\n",
       "      <td>-15.001348</td>\n",
       "      <td>-8.276000</td>\n",
       "      <td>-0.005876</td>\n",
       "      <td>3.179103</td>\n",
       "    </tr>\n",
       "    <tr>\n",
       "      <th>1</th>\n",
       "      <td>62mP7</td>\n",
       "      <td>14.272088</td>\n",
       "      <td>-3.475083</td>\n",
       "      <td>0.999183</td>\n",
       "      <td>26.953261</td>\n",
       "    </tr>\n",
       "    <tr>\n",
       "      <th>2</th>\n",
       "      <td>vyE1P</td>\n",
       "      <td>6.263187</td>\n",
       "      <td>-5.948386</td>\n",
       "      <td>5.001160</td>\n",
       "      <td>134.766305</td>\n",
       "    </tr>\n",
       "    <tr>\n",
       "      <th>3</th>\n",
       "      <td>KcrkZ</td>\n",
       "      <td>-13.081196</td>\n",
       "      <td>-11.506057</td>\n",
       "      <td>4.999415</td>\n",
       "      <td>137.945408</td>\n",
       "    </tr>\n",
       "    <tr>\n",
       "      <th>4</th>\n",
       "      <td>AHL4O</td>\n",
       "      <td>12.702195</td>\n",
       "      <td>-8.147433</td>\n",
       "      <td>5.004363</td>\n",
       "      <td>134.766305</td>\n",
       "    </tr>\n",
       "  </tbody>\n",
       "</table>\n",
       "</div>"
      ],
      "text/plain": [
       "      id         f0         f1        f2     product\n",
       "0  kBEdx -15.001348  -8.276000 -0.005876    3.179103\n",
       "1  62mP7  14.272088  -3.475083  0.999183   26.953261\n",
       "2  vyE1P   6.263187  -5.948386  5.001160  134.766305\n",
       "3  KcrkZ -13.081196 -11.506057  4.999415  137.945408\n",
       "4  AHL4O  12.702195  -8.147433  5.004363  134.766305"
      ]
     },
     "metadata": {},
     "output_type": "display_data"
    },
    {
     "name": "stdout",
     "output_type": "stream",
     "text": [
      "<class 'pandas.core.frame.DataFrame'>\n",
      "RangeIndex: 100000 entries, 0 to 99999\n",
      "Data columns (total 5 columns):\n",
      " #   Column   Non-Null Count   Dtype  \n",
      "---  ------   --------------   -----  \n",
      " 0   id       100000 non-null  object \n",
      " 1   f0       100000 non-null  float64\n",
      " 2   f1       100000 non-null  float64\n",
      " 3   f2       100000 non-null  float64\n",
      " 4   product  100000 non-null  float64\n",
      "dtypes: float64(4), object(1)\n",
      "memory usage: 3.8+ MB\n",
      "\n",
      "***Матрица корреляции***\n",
      "\n"
     ]
    },
    {
     "data": {
      "text/html": [
       "<div>\n",
       "<style scoped>\n",
       "    .dataframe tbody tr th:only-of-type {\n",
       "        vertical-align: middle;\n",
       "    }\n",
       "\n",
       "    .dataframe tbody tr th {\n",
       "        vertical-align: top;\n",
       "    }\n",
       "\n",
       "    .dataframe thead th {\n",
       "        text-align: right;\n",
       "    }\n",
       "</style>\n",
       "<table border=\"1\" class=\"dataframe\">\n",
       "  <thead>\n",
       "    <tr style=\"text-align: right;\">\n",
       "      <th></th>\n",
       "      <th>f0</th>\n",
       "      <th>f1</th>\n",
       "      <th>f2</th>\n",
       "      <th>product</th>\n",
       "    </tr>\n",
       "  </thead>\n",
       "  <tbody>\n",
       "    <tr>\n",
       "      <th>f0</th>\n",
       "      <td>1.000000</td>\n",
       "      <td>0.182287</td>\n",
       "      <td>-0.001777</td>\n",
       "      <td>-0.030491</td>\n",
       "    </tr>\n",
       "    <tr>\n",
       "      <th>f1</th>\n",
       "      <td>0.182287</td>\n",
       "      <td>1.000000</td>\n",
       "      <td>-0.002595</td>\n",
       "      <td>-0.010155</td>\n",
       "    </tr>\n",
       "    <tr>\n",
       "      <th>f2</th>\n",
       "      <td>-0.001777</td>\n",
       "      <td>-0.002595</td>\n",
       "      <td>1.000000</td>\n",
       "      <td>0.999397</td>\n",
       "    </tr>\n",
       "    <tr>\n",
       "      <th>product</th>\n",
       "      <td>-0.030491</td>\n",
       "      <td>-0.010155</td>\n",
       "      <td>0.999397</td>\n",
       "      <td>1.000000</td>\n",
       "    </tr>\n",
       "  </tbody>\n",
       "</table>\n",
       "</div>"
      ],
      "text/plain": [
       "               f0        f1        f2   product\n",
       "f0       1.000000  0.182287 -0.001777 -0.030491\n",
       "f1       0.182287  1.000000 -0.002595 -0.010155\n",
       "f2      -0.001777 -0.002595  1.000000  0.999397\n",
       "product -0.030491 -0.010155  0.999397  1.000000"
      ]
     },
     "metadata": {},
     "output_type": "display_data"
    },
    {
     "name": "stdout",
     "output_type": "stream",
     "text": [
      "\n",
      "***Характеристики выборки***\n",
      "\n"
     ]
    },
    {
     "data": {
      "text/html": [
       "<div>\n",
       "<style scoped>\n",
       "    .dataframe tbody tr th:only-of-type {\n",
       "        vertical-align: middle;\n",
       "    }\n",
       "\n",
       "    .dataframe tbody tr th {\n",
       "        vertical-align: top;\n",
       "    }\n",
       "\n",
       "    .dataframe thead th {\n",
       "        text-align: right;\n",
       "    }\n",
       "</style>\n",
       "<table border=\"1\" class=\"dataframe\">\n",
       "  <thead>\n",
       "    <tr style=\"text-align: right;\">\n",
       "      <th></th>\n",
       "      <th>f0</th>\n",
       "      <th>f1</th>\n",
       "      <th>f2</th>\n",
       "      <th>product</th>\n",
       "    </tr>\n",
       "  </thead>\n",
       "  <tbody>\n",
       "    <tr>\n",
       "      <th>count</th>\n",
       "      <td>100000.000000</td>\n",
       "      <td>100000.000000</td>\n",
       "      <td>100000.000000</td>\n",
       "      <td>100000.000000</td>\n",
       "    </tr>\n",
       "    <tr>\n",
       "      <th>mean</th>\n",
       "      <td>1.141296</td>\n",
       "      <td>-4.796579</td>\n",
       "      <td>2.494541</td>\n",
       "      <td>68.825000</td>\n",
       "    </tr>\n",
       "    <tr>\n",
       "      <th>std</th>\n",
       "      <td>8.965932</td>\n",
       "      <td>5.119872</td>\n",
       "      <td>1.703572</td>\n",
       "      <td>45.944423</td>\n",
       "    </tr>\n",
       "    <tr>\n",
       "      <th>min</th>\n",
       "      <td>-31.609576</td>\n",
       "      <td>-26.358598</td>\n",
       "      <td>-0.018144</td>\n",
       "      <td>0.000000</td>\n",
       "    </tr>\n",
       "    <tr>\n",
       "      <th>25%</th>\n",
       "      <td>-6.298551</td>\n",
       "      <td>-8.267985</td>\n",
       "      <td>1.000021</td>\n",
       "      <td>26.953261</td>\n",
       "    </tr>\n",
       "    <tr>\n",
       "      <th>50%</th>\n",
       "      <td>1.153055</td>\n",
       "      <td>-4.813172</td>\n",
       "      <td>2.011479</td>\n",
       "      <td>57.085625</td>\n",
       "    </tr>\n",
       "    <tr>\n",
       "      <th>75%</th>\n",
       "      <td>8.621015</td>\n",
       "      <td>-1.332816</td>\n",
       "      <td>3.999904</td>\n",
       "      <td>107.813044</td>\n",
       "    </tr>\n",
       "    <tr>\n",
       "      <th>max</th>\n",
       "      <td>29.421755</td>\n",
       "      <td>18.734063</td>\n",
       "      <td>5.019721</td>\n",
       "      <td>137.945408</td>\n",
       "    </tr>\n",
       "  </tbody>\n",
       "</table>\n",
       "</div>"
      ],
      "text/plain": [
       "                  f0             f1             f2        product\n",
       "count  100000.000000  100000.000000  100000.000000  100000.000000\n",
       "mean        1.141296      -4.796579       2.494541      68.825000\n",
       "std         8.965932       5.119872       1.703572      45.944423\n",
       "min       -31.609576     -26.358598      -0.018144       0.000000\n",
       "25%        -6.298551      -8.267985       1.000021      26.953261\n",
       "50%         1.153055      -4.813172       2.011479      57.085625\n",
       "75%         8.621015      -1.332816       3.999904     107.813044\n",
       "max        29.421755      18.734063       5.019721     137.945408"
      ]
     },
     "metadata": {},
     "output_type": "display_data"
    },
    {
     "name": "stdout",
     "output_type": "stream",
     "text": [
      "\n",
      "ИНФОРМАЦИЯ О ДАТАФРЕЙМЕ\n",
      "\n"
     ]
    },
    {
     "data": {
      "text/html": [
       "<div>\n",
       "<style scoped>\n",
       "    .dataframe tbody tr th:only-of-type {\n",
       "        vertical-align: middle;\n",
       "    }\n",
       "\n",
       "    .dataframe tbody tr th {\n",
       "        vertical-align: top;\n",
       "    }\n",
       "\n",
       "    .dataframe thead th {\n",
       "        text-align: right;\n",
       "    }\n",
       "</style>\n",
       "<table border=\"1\" class=\"dataframe\">\n",
       "  <thead>\n",
       "    <tr style=\"text-align: right;\">\n",
       "      <th></th>\n",
       "      <th>id</th>\n",
       "      <th>f0</th>\n",
       "      <th>f1</th>\n",
       "      <th>f2</th>\n",
       "      <th>product</th>\n",
       "    </tr>\n",
       "  </thead>\n",
       "  <tbody>\n",
       "    <tr>\n",
       "      <th>0</th>\n",
       "      <td>fwXo0</td>\n",
       "      <td>-1.146987</td>\n",
       "      <td>0.963328</td>\n",
       "      <td>-0.828965</td>\n",
       "      <td>27.758673</td>\n",
       "    </tr>\n",
       "    <tr>\n",
       "      <th>1</th>\n",
       "      <td>WJtFt</td>\n",
       "      <td>0.262778</td>\n",
       "      <td>0.269839</td>\n",
       "      <td>-2.530187</td>\n",
       "      <td>56.069697</td>\n",
       "    </tr>\n",
       "    <tr>\n",
       "      <th>2</th>\n",
       "      <td>ovLUW</td>\n",
       "      <td>0.194587</td>\n",
       "      <td>0.289035</td>\n",
       "      <td>-5.586433</td>\n",
       "      <td>62.871910</td>\n",
       "    </tr>\n",
       "    <tr>\n",
       "      <th>3</th>\n",
       "      <td>q6cA6</td>\n",
       "      <td>2.236060</td>\n",
       "      <td>-0.553760</td>\n",
       "      <td>0.930038</td>\n",
       "      <td>114.572842</td>\n",
       "    </tr>\n",
       "    <tr>\n",
       "      <th>4</th>\n",
       "      <td>WPMUX</td>\n",
       "      <td>-0.515993</td>\n",
       "      <td>1.716266</td>\n",
       "      <td>5.899011</td>\n",
       "      <td>149.600746</td>\n",
       "    </tr>\n",
       "  </tbody>\n",
       "</table>\n",
       "</div>"
      ],
      "text/plain": [
       "      id        f0        f1        f2     product\n",
       "0  fwXo0 -1.146987  0.963328 -0.828965   27.758673\n",
       "1  WJtFt  0.262778  0.269839 -2.530187   56.069697\n",
       "2  ovLUW  0.194587  0.289035 -5.586433   62.871910\n",
       "3  q6cA6  2.236060 -0.553760  0.930038  114.572842\n",
       "4  WPMUX -0.515993  1.716266  5.899011  149.600746"
      ]
     },
     "metadata": {},
     "output_type": "display_data"
    },
    {
     "name": "stdout",
     "output_type": "stream",
     "text": [
      "<class 'pandas.core.frame.DataFrame'>\n",
      "RangeIndex: 100000 entries, 0 to 99999\n",
      "Data columns (total 5 columns):\n",
      " #   Column   Non-Null Count   Dtype  \n",
      "---  ------   --------------   -----  \n",
      " 0   id       100000 non-null  object \n",
      " 1   f0       100000 non-null  float64\n",
      " 2   f1       100000 non-null  float64\n",
      " 3   f2       100000 non-null  float64\n",
      " 4   product  100000 non-null  float64\n",
      "dtypes: float64(4), object(1)\n",
      "memory usage: 3.8+ MB\n",
      "\n",
      "***Матрица корреляции***\n",
      "\n"
     ]
    },
    {
     "data": {
      "text/html": [
       "<div>\n",
       "<style scoped>\n",
       "    .dataframe tbody tr th:only-of-type {\n",
       "        vertical-align: middle;\n",
       "    }\n",
       "\n",
       "    .dataframe tbody tr th {\n",
       "        vertical-align: top;\n",
       "    }\n",
       "\n",
       "    .dataframe thead th {\n",
       "        text-align: right;\n",
       "    }\n",
       "</style>\n",
       "<table border=\"1\" class=\"dataframe\">\n",
       "  <thead>\n",
       "    <tr style=\"text-align: right;\">\n",
       "      <th></th>\n",
       "      <th>f0</th>\n",
       "      <th>f1</th>\n",
       "      <th>f2</th>\n",
       "      <th>product</th>\n",
       "    </tr>\n",
       "  </thead>\n",
       "  <tbody>\n",
       "    <tr>\n",
       "      <th>f0</th>\n",
       "      <td>1.000000</td>\n",
       "      <td>0.000528</td>\n",
       "      <td>-0.000448</td>\n",
       "      <td>-0.001987</td>\n",
       "    </tr>\n",
       "    <tr>\n",
       "      <th>f1</th>\n",
       "      <td>0.000528</td>\n",
       "      <td>1.000000</td>\n",
       "      <td>0.000779</td>\n",
       "      <td>-0.001012</td>\n",
       "    </tr>\n",
       "    <tr>\n",
       "      <th>f2</th>\n",
       "      <td>-0.000448</td>\n",
       "      <td>0.000779</td>\n",
       "      <td>1.000000</td>\n",
       "      <td>0.445871</td>\n",
       "    </tr>\n",
       "    <tr>\n",
       "      <th>product</th>\n",
       "      <td>-0.001987</td>\n",
       "      <td>-0.001012</td>\n",
       "      <td>0.445871</td>\n",
       "      <td>1.000000</td>\n",
       "    </tr>\n",
       "  </tbody>\n",
       "</table>\n",
       "</div>"
      ],
      "text/plain": [
       "               f0        f1        f2   product\n",
       "f0       1.000000  0.000528 -0.000448 -0.001987\n",
       "f1       0.000528  1.000000  0.000779 -0.001012\n",
       "f2      -0.000448  0.000779  1.000000  0.445871\n",
       "product -0.001987 -0.001012  0.445871  1.000000"
      ]
     },
     "metadata": {},
     "output_type": "display_data"
    },
    {
     "name": "stdout",
     "output_type": "stream",
     "text": [
      "\n",
      "***Характеристики выборки***\n",
      "\n"
     ]
    },
    {
     "data": {
      "text/html": [
       "<div>\n",
       "<style scoped>\n",
       "    .dataframe tbody tr th:only-of-type {\n",
       "        vertical-align: middle;\n",
       "    }\n",
       "\n",
       "    .dataframe tbody tr th {\n",
       "        vertical-align: top;\n",
       "    }\n",
       "\n",
       "    .dataframe thead th {\n",
       "        text-align: right;\n",
       "    }\n",
       "</style>\n",
       "<table border=\"1\" class=\"dataframe\">\n",
       "  <thead>\n",
       "    <tr style=\"text-align: right;\">\n",
       "      <th></th>\n",
       "      <th>f0</th>\n",
       "      <th>f1</th>\n",
       "      <th>f2</th>\n",
       "      <th>product</th>\n",
       "    </tr>\n",
       "  </thead>\n",
       "  <tbody>\n",
       "    <tr>\n",
       "      <th>count</th>\n",
       "      <td>100000.000000</td>\n",
       "      <td>100000.000000</td>\n",
       "      <td>100000.000000</td>\n",
       "      <td>100000.000000</td>\n",
       "    </tr>\n",
       "    <tr>\n",
       "      <th>mean</th>\n",
       "      <td>0.002023</td>\n",
       "      <td>-0.002081</td>\n",
       "      <td>2.495128</td>\n",
       "      <td>95.000000</td>\n",
       "    </tr>\n",
       "    <tr>\n",
       "      <th>std</th>\n",
       "      <td>1.732045</td>\n",
       "      <td>1.730417</td>\n",
       "      <td>3.473445</td>\n",
       "      <td>44.749921</td>\n",
       "    </tr>\n",
       "    <tr>\n",
       "      <th>min</th>\n",
       "      <td>-8.760004</td>\n",
       "      <td>-7.084020</td>\n",
       "      <td>-11.970335</td>\n",
       "      <td>0.000000</td>\n",
       "    </tr>\n",
       "    <tr>\n",
       "      <th>25%</th>\n",
       "      <td>-1.162288</td>\n",
       "      <td>-1.174820</td>\n",
       "      <td>0.130359</td>\n",
       "      <td>59.450441</td>\n",
       "    </tr>\n",
       "    <tr>\n",
       "      <th>50%</th>\n",
       "      <td>0.009424</td>\n",
       "      <td>-0.009482</td>\n",
       "      <td>2.484236</td>\n",
       "      <td>94.925613</td>\n",
       "    </tr>\n",
       "    <tr>\n",
       "      <th>75%</th>\n",
       "      <td>1.158535</td>\n",
       "      <td>1.163678</td>\n",
       "      <td>4.858794</td>\n",
       "      <td>130.595027</td>\n",
       "    </tr>\n",
       "    <tr>\n",
       "      <th>max</th>\n",
       "      <td>7.238262</td>\n",
       "      <td>7.844801</td>\n",
       "      <td>16.739402</td>\n",
       "      <td>190.029838</td>\n",
       "    </tr>\n",
       "  </tbody>\n",
       "</table>\n",
       "</div>"
      ],
      "text/plain": [
       "                  f0             f1             f2        product\n",
       "count  100000.000000  100000.000000  100000.000000  100000.000000\n",
       "mean        0.002023      -0.002081       2.495128      95.000000\n",
       "std         1.732045       1.730417       3.473445      44.749921\n",
       "min        -8.760004      -7.084020     -11.970335       0.000000\n",
       "25%        -1.162288      -1.174820       0.130359      59.450441\n",
       "50%         0.009424      -0.009482       2.484236      94.925613\n",
       "75%         1.158535       1.163678       4.858794     130.595027\n",
       "max         7.238262       7.844801      16.739402     190.029838"
      ]
     },
     "metadata": {},
     "output_type": "display_data"
    },
    {
     "name": "stdout",
     "output_type": "stream",
     "text": [
      "\n"
     ]
    },
    {
     "data": {
      "image/png": "[encoded data removed]",
      "text/plain": [
       "<Figure size 432x288 with 1 Axes>"
      ]
     },
     "metadata": {
      "needs_background": "light"
     },
     "output_type": "display_data"
    },
    {
     "data": {
      "image/png": "[encoded data removed]",
      "text/plain": [
       "<Figure size 432x288 with 1 Axes>"
      ]
     },
     "metadata": {
      "needs_background": "light"
     },
     "output_type": "display_data"
    },
    {
     "data": {
      "image/png": "[encoded data removed]",
      "text/plain": [
       "<Figure size 432x288 with 1 Axes>"
      ]
     },
     "metadata": {
      "needs_background": "light"
     },
     "output_type": "display_data"
    }
   ],
   "source": [
    "info_df(geo_0)\n",
    "info_df(geo_1)\n",
    "info_df(geo_2)"
   ]
  },
  {
   "cell_type": "markdown",
   "metadata": {},
   "source": [
    "О имеющихся датафреймах можно сказать следующее. Каждый из них соответствует какому-то региону (получается, имеем данные из 3 регионов) и содержит по 10 000 значений, пропусков нет, типы данных корректны, нет выбросов в столбце `product`, все признаки количественные (не потребуется кодировка). Столбцы:\n",
    "\n",
    "* id — уникальный идентификатор скважины;\n",
    "* f0, f1, f2 — три признака точек (неважно, что они означают, но сами признаки значимы);\n",
    "* product — объём запасов в скважине (тыс. баррелей).\n",
    "\n",
    "\n",
    "Во 2м датафрейме (geo_1) наблюдается сильнейшая корреляция между f2 и product, чего в других датафреймах нет. Также график распределения объёмов для 2 региона отличается от остальных двух, не являясь нормальным распределением. Посмотрим подробнее."
   ]
  },
  {
   "cell_type": "code",
   "execution_count": 10,
   "metadata": {},
   "outputs": [
    {
     "name": "stdout",
     "output_type": "stream",
     "text": [
      "12\n"
     ]
    }
   ],
   "source": [
    "print(len(geo_1['product'].unique()))"
   ]
  },
  {
   "cell_type": "markdown",
   "metadata": {},
   "source": [
    "Вероятно, что большая часть данных недоступна или утеряна. Также может быть, что дело в том, что данные синтетические по условию.  Пока что оставим всё так, посмотрим на результаты предсказаний."
   ]
  },
  {
   "cell_type": "markdown",
   "metadata": {},
   "source": [
    "\n",
    "<div class=\"alert alert-block alert-success\">\n",
    "<b>Успех:</b> Данные осмотрены хорошо\n",
    "</div>\n",
    "\n",
    "\n",
    "<div class=\"alert alert-block alert-info\">\n",
    "<b>Совет:</b>  Советую обратить внимание на библиотеки sweetviz и pandas_profiling помогут в проведении более тщательного EDA анализа. Исследовательский анализ можно делать и с помощью ручного вызова функций дефолтных библиотек. Данные библиотеки хороши для максимизации комфорта презентации результатов анализа бизнес-пользователям.  \n",
    "\n",
    "Очень просты в использоовании, на вход кладется датафрейм: pandas_profiling.ProfileReport(df) \n",
    "</div>\n"
   ]
  },
  {
   "cell_type": "markdown",
   "metadata": {},
   "source": [
    "## Обучение и проверка модели"
   ]
  },
  {
   "cell_type": "code",
   "execution_count": 11,
   "metadata": {},
   "outputs": [],
   "source": [
    "#разобъём данные на обучающую и валидационные выборки \n",
    "#так как датафреймов несколько, напишем функцию для разбиения и применим к каждому\n",
    "\n",
    "def split(df):\n",
    "    features = df.drop(['id', 'product'], axis=1)\n",
    "    target = df['product']\n",
    "    features_train, features_valid, target_train, target_valid = train_test_split(features, target, test_size = 0.25, random_state = 12345)\n",
    "    return features_train, features_valid, target_train, target_valid"
   ]
  },
  {
   "cell_type": "code",
   "execution_count": 12,
   "metadata": {},
   "outputs": [],
   "source": [
    "features_train_0, features_valid_0, target_train_0, target_valid_0 = split(geo_0)\n",
    "features_train_1, features_valid_1, target_train_1, target_valid_1 = split(geo_1)\n",
    "features_train_2, features_valid_2, target_train_2, target_valid_2 = split(geo_2)"
   ]
  },
  {
   "cell_type": "code",
   "execution_count": 13,
   "metadata": {},
   "outputs": [],
   "source": [
    "#масштаб данных не настолько сильно разнится, поэтому можем не масштабировать признаки, а сразу перейти к обучению моделей\n",
    "#будем использовать Линейную регрессию\n",
    "#аналогично прошлым пунктам напишем функцию для обучения моделей для каждого ДФ и получения оценок - среднего и RMSE, сводной таблицы реальных значений и предсказаний\n",
    "\n",
    "model = LinearRegression()\n",
    "def model_and_predict(features_train, features_valid, target_train, target_valid):\n",
    "    model.fit(features_train, target_train)\n",
    "    predictions = model.predict(features_valid)\n",
    "    true_prediction = {'true_product': target_valid, #реальные объемы запасов\n",
    "                       'predicted_product': predictions}  #предсказания объема запасов  \n",
    "    table = pd.DataFrame(true_prediction, columns = ['true_product', 'predicted_product'])\n",
    "    rmse = mean_squared_error(target_valid, predictions) ** 0.5\n",
    "    mean_value = table['predicted_product'].mean()\n",
    "    return table, mean_value, rmse, predictions"
   ]
  },
  {
   "cell_type": "code",
   "execution_count": 14,
   "metadata": {},
   "outputs": [
    {
     "data": {
      "text/html": [
       "<div>\n",
       "<style scoped>\n",
       "    .dataframe tbody tr th:only-of-type {\n",
       "        vertical-align: middle;\n",
       "    }\n",
       "\n",
       "    .dataframe tbody tr th {\n",
       "        vertical-align: top;\n",
       "    }\n",
       "\n",
       "    .dataframe thead th {\n",
       "        text-align: right;\n",
       "    }\n",
       "</style>\n",
       "<table border=\"1\" class=\"dataframe\">\n",
       "  <thead>\n",
       "    <tr style=\"text-align: right;\">\n",
       "      <th></th>\n",
       "      <th>true_product</th>\n",
       "      <th>predicted_product</th>\n",
       "    </tr>\n",
       "  </thead>\n",
       "  <tbody>\n",
       "    <tr>\n",
       "      <th>71751</th>\n",
       "      <td>10.038645</td>\n",
       "      <td>95.894952</td>\n",
       "    </tr>\n",
       "    <tr>\n",
       "      <th>80493</th>\n",
       "      <td>114.551489</td>\n",
       "      <td>77.572583</td>\n",
       "    </tr>\n",
       "    <tr>\n",
       "      <th>2655</th>\n",
       "      <td>132.603635</td>\n",
       "      <td>77.892640</td>\n",
       "    </tr>\n",
       "    <tr>\n",
       "      <th>53233</th>\n",
       "      <td>169.072125</td>\n",
       "      <td>90.175134</td>\n",
       "    </tr>\n",
       "    <tr>\n",
       "      <th>91141</th>\n",
       "      <td>122.325180</td>\n",
       "      <td>70.510088</td>\n",
       "    </tr>\n",
       "  </tbody>\n",
       "</table>\n",
       "</div>"
      ],
      "text/plain": [
       "       true_product  predicted_product\n",
       "71751     10.038645          95.894952\n",
       "80493    114.551489          77.572583\n",
       "2655     132.603635          77.892640\n",
       "53233    169.072125          90.175134\n",
       "91141    122.325180          70.510088"
      ]
     },
     "metadata": {},
     "output_type": "display_data"
    },
    {
     "data": {
      "text/html": [
       "<div>\n",
       "<style scoped>\n",
       "    .dataframe tbody tr th:only-of-type {\n",
       "        vertical-align: middle;\n",
       "    }\n",
       "\n",
       "    .dataframe tbody tr th {\n",
       "        vertical-align: top;\n",
       "    }\n",
       "\n",
       "    .dataframe thead th {\n",
       "        text-align: right;\n",
       "    }\n",
       "</style>\n",
       "<table border=\"1\" class=\"dataframe\">\n",
       "  <thead>\n",
       "    <tr style=\"text-align: right;\">\n",
       "      <th></th>\n",
       "      <th>true_product</th>\n",
       "      <th>predicted_product</th>\n",
       "    </tr>\n",
       "  </thead>\n",
       "  <tbody>\n",
       "    <tr>\n",
       "      <th>71751</th>\n",
       "      <td>80.859783</td>\n",
       "      <td>82.663314</td>\n",
       "    </tr>\n",
       "    <tr>\n",
       "      <th>80493</th>\n",
       "      <td>53.906522</td>\n",
       "      <td>54.431786</td>\n",
       "    </tr>\n",
       "    <tr>\n",
       "      <th>2655</th>\n",
       "      <td>30.132364</td>\n",
       "      <td>29.748760</td>\n",
       "    </tr>\n",
       "    <tr>\n",
       "      <th>53233</th>\n",
       "      <td>53.906522</td>\n",
       "      <td>53.552133</td>\n",
       "    </tr>\n",
       "    <tr>\n",
       "      <th>91141</th>\n",
       "      <td>0.000000</td>\n",
       "      <td>1.243856</td>\n",
       "    </tr>\n",
       "  </tbody>\n",
       "</table>\n",
       "</div>"
      ],
      "text/plain": [
       "       true_product  predicted_product\n",
       "71751     80.859783          82.663314\n",
       "80493     53.906522          54.431786\n",
       "2655      30.132364          29.748760\n",
       "53233     53.906522          53.552133\n",
       "91141      0.000000           1.243856"
      ]
     },
     "metadata": {},
     "output_type": "display_data"
    },
    {
     "data": {
      "text/html": [
       "<div>\n",
       "<style scoped>\n",
       "    .dataframe tbody tr th:only-of-type {\n",
       "        vertical-align: middle;\n",
       "    }\n",
       "\n",
       "    .dataframe tbody tr th {\n",
       "        vertical-align: top;\n",
       "    }\n",
       "\n",
       "    .dataframe thead th {\n",
       "        text-align: right;\n",
       "    }\n",
       "</style>\n",
       "<table border=\"1\" class=\"dataframe\">\n",
       "  <thead>\n",
       "    <tr style=\"text-align: right;\">\n",
       "      <th></th>\n",
       "      <th>true_product</th>\n",
       "      <th>predicted_product</th>\n",
       "    </tr>\n",
       "  </thead>\n",
       "  <tbody>\n",
       "    <tr>\n",
       "      <th>71751</th>\n",
       "      <td>80.859783</td>\n",
       "      <td>82.663314</td>\n",
       "    </tr>\n",
       "    <tr>\n",
       "      <th>80493</th>\n",
       "      <td>53.906522</td>\n",
       "      <td>54.431786</td>\n",
       "    </tr>\n",
       "    <tr>\n",
       "      <th>2655</th>\n",
       "      <td>30.132364</td>\n",
       "      <td>29.748760</td>\n",
       "    </tr>\n",
       "    <tr>\n",
       "      <th>53233</th>\n",
       "      <td>53.906522</td>\n",
       "      <td>53.552133</td>\n",
       "    </tr>\n",
       "    <tr>\n",
       "      <th>91141</th>\n",
       "      <td>0.000000</td>\n",
       "      <td>1.243856</td>\n",
       "    </tr>\n",
       "  </tbody>\n",
       "</table>\n",
       "</div>"
      ],
      "text/plain": [
       "       true_product  predicted_product\n",
       "71751     80.859783          82.663314\n",
       "80493     53.906522          54.431786\n",
       "2655      30.132364          29.748760\n",
       "53233     53.906522          53.552133\n",
       "91141      0.000000           1.243856"
      ]
     },
     "metadata": {},
     "output_type": "display_data"
    },
    {
     "name": "stdout",
     "output_type": "stream",
     "text": [
      "Средний запас предсказанного сырья в 0-м регионе: 92.59256778438035 \n",
      "Средний запас предсказанного сырья в 1-м регионе: 68.728546895446 \n",
      "Средний запас предсказанного сырья в 2-м регионе: 94.96504596800489\n",
      "RMSE модели для 0-го региона: 37.5794217150813 \n",
      "RMSE модели для 1-го региона: 0.893099286775617 \n",
      "RMSE модели для 2-го региона: 40.02970873393434\n"
     ]
    }
   ],
   "source": [
    "table_0, mean_0, rmse_0, predicted_valid_0 = model_and_predict(features_train_0, features_valid_0, target_train_0, target_valid_0)\n",
    "table_1, mean_1, rmse_1, predicted_valid_1 = model_and_predict(features_train_1, features_valid_1, target_train_1, target_valid_1)\n",
    "table_2, mean_2, rmse_2, predicted_valid_2 = model_and_predict(features_train_2, features_valid_2, target_train_2, target_valid_2)\n",
    "display(table_0.head(5), table_1.head(5), table_1.head(5))\n",
    "print('Средний запас предсказанного сырья в 0-м регионе:', mean_0, '\\nСредний запас предсказанного сырья в 1-м регионе:', mean_1, '\\nСредний запас предсказанного сырья в 2-м регионе:', mean_2)\n",
    "print('RMSE модели для 0-го региона:', rmse_0, '\\nRMSE модели для 1-го региона:', rmse_1, '\\nRMSE модели для 2-го региона:', rmse_2)"
   ]
  },
  {
   "cell_type": "markdown",
   "metadata": {},
   "source": [
    "***Итог:***\n",
    "\n",
    "Самое низкое значение RMSE получили для 1го региона, однако средний предсказанный запас для него самый низкий. Максимальное значение среднего запаса по предсказаниям получили для 2го региона, но для 0го значение не сильно ниже.  "
   ]
  },
  {
   "cell_type": "markdown",
   "metadata": {},
   "source": [
    "\n",
    "<div class=\"alert alert-block alert-success\">\n",
    "<b>Успех:</b> Шаг проделан лаконично, все метрики посчитаны корректно\n",
    "</div> \n"
   ]
  },
  {
   "cell_type": "markdown",
   "metadata": {},
   "source": [
    "## Подготовка к расчёту прибыли"
   ]
  },
  {
   "cell_type": "code",
   "execution_count": 37,
   "metadata": {},
   "outputs": [],
   "source": [
    "#сохраним все ключевые значения для расчётов в отдельных переменных\n",
    "\n",
    "REGIONAL_BUDGET = 10_000_000_000 #бюджет на разработку скважин в регионе (10 млрд рублей)\n",
    "PRICE_OF_UNIT = 450_000 #цена за тысячу баррелей (за единицу продукта)\n",
    "LOSS_PROBABILITY = 0.025 #вероятность убытков\n",
    "WELLS_IN_REGION = 500 #количество исследуемых скважин в регионе\n",
    "BEST_WELLS = 200 #количество лучших для разработки скважин"
   ]
  },
  {
   "cell_type": "markdown",
   "metadata": {},
   "source": [
    "<div class=\"alert alert-block alert-info\">\n",
    "    \n",
    "<b>Совет:</b> Константы принято записывать в ВЕРХНЕМ РЕГИСТРЕ =) Читем здесь https://pythonworld.ru/osnovy/pep-8-rukovodstvo-po-napisaniyu-koda-na-python.html#section-29\n",
    "    \n",
    "А большие значение можно записывать так: `450_000`.\n",
    "</div> "
   ]
  },
  {
   "cell_type": "markdown",
   "metadata": {},
   "source": [
    "<div class=\"alert alert-block alert-warning\">\n",
    "<b>Изменения:</b> Изменила регистр констант и формат записи больших чисел))\n",
    "    Спасибо за все добавленные ссылки!)\n",
    "</div>"
   ]
  },
  {
   "cell_type": "code",
   "execution_count": 38,
   "metadata": {},
   "outputs": [
    {
     "name": "stdout",
     "output_type": "stream",
     "text": [
      "Достаточный объём сырья для безубыточной разработки новой скважины составляет 111.11 тыс.баррелей\n"
     ]
    }
   ],
   "source": [
    "#Рассчитаем достаточный объём сырья для безубыточной разработки новой скважины. \n",
    "#Поделим региональный бюджет на количество луших скважин(это будет бюджет на 1 скважину) и разделим на цену за тысячу баррелей\n",
    "#то есть соотношение затраченного на скважину к тому, что с неё можно получить за 1 тыс.баррелей\n",
    "\n",
    "sufficient_volume = REGIONAL_BUDGET / BEST_WELLS / PRICE_OF_UNIT\n",
    "print('Достаточный объём сырья для безубыточной разработки новой скважины составляет', round(sufficient_volume, 2), 'тыс.баррелей')"
   ]
  },
  {
   "cell_type": "code",
   "execution_count": 39,
   "metadata": {},
   "outputs": [
    {
     "data": {
      "text/html": [
       "<div>\n",
       "<style scoped>\n",
       "    .dataframe tbody tr th:only-of-type {\n",
       "        vertical-align: middle;\n",
       "    }\n",
       "\n",
       "    .dataframe tbody tr th {\n",
       "        vertical-align: top;\n",
       "    }\n",
       "\n",
       "    .dataframe thead th {\n",
       "        text-align: right;\n",
       "    }\n",
       "</style>\n",
       "<table border=\"1\" class=\"dataframe\">\n",
       "  <thead>\n",
       "    <tr style=\"text-align: right;\">\n",
       "      <th></th>\n",
       "      <th>mean_volume</th>\n",
       "      <th>required_volume</th>\n",
       "    </tr>\n",
       "  </thead>\n",
       "  <tbody>\n",
       "    <tr>\n",
       "      <th>0</th>\n",
       "      <td>92.593</td>\n",
       "      <td>111.11</td>\n",
       "    </tr>\n",
       "    <tr>\n",
       "      <th>1</th>\n",
       "      <td>68.728</td>\n",
       "      <td>111.11</td>\n",
       "    </tr>\n",
       "    <tr>\n",
       "      <th>2</th>\n",
       "      <td>94.965</td>\n",
       "      <td>111.11</td>\n",
       "    </tr>\n",
       "  </tbody>\n",
       "</table>\n",
       "</div>"
      ],
      "text/plain": [
       "   mean_volume  required_volume\n",
       "0       92.593           111.11\n",
       "1       68.728           111.11\n",
       "2       94.965           111.11"
      ]
     },
     "metadata": {},
     "output_type": "display_data"
    }
   ],
   "source": [
    "#Сравним полученный объём сырья со средним запасом в каждом регионе.\n",
    "\n",
    "mean_volume = {'mean_volume': [92.593, 68.728, 94.965], \n",
    "               'required_volume': [111.11, 111.11, 111.11]}  \n",
    "display(pd.DataFrame(mean_volume, columns = ['mean_volume', 'required_volume']))"
   ]
  },
  {
   "cell_type": "markdown",
   "metadata": {},
   "source": [
    "По сводной таблице видно, что ни один регион по предсказанным средним объемам не подходит под рассчитанный уровень безубыточной добычи. Самые большие риски будут во 2м регионе(geo_1). Однако, стоит учесть, что в расчете учитывалось лишь количество скважин, но то, что они должны иметь самые большие объемы запасов, не учтено. Поэтому стоит сделать далее акцент на этом. "
   ]
  },
  {
   "cell_type": "markdown",
   "metadata": {},
   "source": [
    "<div class=\"alert alert-block alert-success\">\n",
    "<b>Успех:</b> Значение для безубыточной разработки посчитано верно, с выводом согласен  \n",
    "</div>\n"
   ]
  },
  {
   "cell_type": "markdown",
   "metadata": {},
   "source": [
    "## Расчёт прибыли и рисков "
   ]
  },
  {
   "cell_type": "code",
   "execution_count": 40,
   "metadata": {},
   "outputs": [],
   "source": [
    "#напишем функцию для подсчета прибыли в каждом регионе с учетом того, что выбираются 200 лучших скважин (затраченный бюджет не учитывается)\n",
    "\n",
    "def revenue(target, predictions):\n",
    "    predictions_sorted = predictions.sort_values(ascending=False)\n",
    "    selected_target = target[predictions_sorted.index][:BEST_WELLS]\n",
    "    profit = selected_target.sum() * PRICE_OF_UNIT\n",
    "    return profit - REGIONAL_BUDGET"
   ]
  },
  {
   "cell_type": "markdown",
   "metadata": {},
   "source": [
    "<div class=\"alert alert-block alert-success\">\n",
    "<b>Успех:</b> Ф-ция для подсчета прибыли определена верно\n",
    "</div>"
   ]
  },
  {
   "cell_type": "code",
   "execution_count": 41,
   "metadata": {},
   "outputs": [],
   "source": [
    "#также напишем функцию для перевода данных к формату Series\n",
    "\n",
    "def series(target, predictions):\n",
    "    target = target.reset_index(drop=True)\n",
    "    predictions = pd.Series(predictions)\n",
    "    return target, predictions"
   ]
  },
  {
   "cell_type": "code",
   "execution_count": 42,
   "metadata": {},
   "outputs": [],
   "source": [
    "target_valid_0, predicted_valid_0 = series(target_valid_0, predicted_valid_0)\n",
    "target_valid_1, predicted_valid_1 = series(target_valid_1, predicted_valid_1)\n",
    "target_valid_2, predicted_valid_2 = series(target_valid_2, predicted_valid_2)"
   ]
  },
  {
   "cell_type": "code",
   "execution_count": 43,
   "metadata": {},
   "outputs": [],
   "source": [
    "#теперь при помощи написанной функции и процедуры bootstrap рассчитаем среднюю прибыль, 95%-й доверительный интервал и риск убытков.\n",
    "\n",
    "def bootstrap(target, predictions):\n",
    "    \n",
    "    state = np.random.RandomState(12345)\n",
    "    \n",
    "    values = []\n",
    "    \n",
    "    for i in range(1000):\n",
    "        target_subsample = target.sample(n = WELLS_IN_REGION, replace=True, random_state=state)\n",
    "        pred_subsumple = predictions[target_subsample.index]\n",
    "        values.append(revenue(target_subsample, pred_subsumple))\n",
    "        \n",
    "    values = pd.Series(values)\n",
    "    mean_revenue = int(values.mean())\n",
    "    lower = int(values.quantile(q=0.025))\n",
    "    upper = int(values.quantile(q=0.975))\n",
    "    risk = int((len(values[values < 0]) / len(values)) * 100)\n",
    "    return mean_revenue, lower, upper, risk"
   ]
  },
  {
   "cell_type": "markdown",
   "metadata": {},
   "source": [
    "<div class=\"alert alert-block alert-success\">\n",
    "<b>Успех:</b> С бутстрапом тоже все в порядке, метрики считаются верным образом!  \n",
    "</div>"
   ]
  },
  {
   "cell_type": "code",
   "execution_count": 44,
   "metadata": {},
   "outputs": [],
   "source": [
    "mean_revenue_0, lower_0, upper_0, risk_0  = bootstrap(target_valid_0, predicted_valid_0)\n",
    "mean_revenue_1, lower_1, upper_1, risk_1  = bootstrap(target_valid_1, predicted_valid_1)\n",
    "mean_revenue_2, lower_2, upper_2, risk_2  = bootstrap(target_valid_2, predicted_valid_2)"
   ]
  },
  {
   "cell_type": "code",
   "execution_count": 45,
   "metadata": {},
   "outputs": [
    {
     "name": "stdout",
     "output_type": "stream",
     "text": [
      "Средняя прибыль 200 лучших скважин региона_0: 425938526\n",
      "Средняя прибыль 200 лучших скважин региона_1: 515222773\n",
      "Средняя прибыль 200 лучших скважин региона_2: 435008362\n"
     ]
    }
   ],
   "source": [
    "print('Средняя прибыль 200 лучших скважин региона_0:', mean_revenue_0)\n",
    "print('Средняя прибыль 200 лучших скважин региона_1:', mean_revenue_1)\n",
    "print('Средняя прибыль 200 лучших скважин региона_2:', mean_revenue_2)"
   ]
  },
  {
   "cell_type": "code",
   "execution_count": 46,
   "metadata": {},
   "outputs": [
    {
     "name": "stdout",
     "output_type": "stream",
     "text": [
      "95% доверительный интервал для средней прибыли 200 лучших скважин региона_0 от -102090094 до 947976353\n",
      "95% доверительный интервал для средней прибыли 200 лучших скважин региона_1 от 68873225 до 931547591\n",
      "95% доверительный интервал для средней прибыли 200 лучших скважин региона_2 от -128880547 до 969706954\n"
     ]
    }
   ],
   "source": [
    "print('95% доверительный интервал для средней прибыли 200 лучших скважин региона_0', 'от', lower_0, 'до', upper_0)\n",
    "print('95% доверительный интервал для средней прибыли 200 лучших скважин региона_1', 'от', lower_1, 'до', upper_1)\n",
    "print('95% доверительный интервал для средней прибыли 200 лучших скважин региона_2', 'от', lower_2, 'до', upper_2)"
   ]
  },
  {
   "cell_type": "code",
   "execution_count": 47,
   "metadata": {},
   "outputs": [
    {
     "name": "stdout",
     "output_type": "stream",
     "text": [
      "Риск убытков региона_0: 6 %\n",
      "Риск убытков региона_1: 1 %\n",
      "Риск убытков региона_2: 6 %\n"
     ]
    }
   ],
   "source": [
    "print('Риск убытков региона_0:', risk_0, '%')\n",
    "print('Риск убытков региона_1:', risk_1, '%')\n",
    "print('Риск убытков региона_2:', risk_2, '%')"
   ]
  },
  {
   "cell_type": "markdown",
   "metadata": {},
   "source": [
    "**ВЫВОД:**\n",
    "\n",
    "Риски убытка для каждого из 3-х регионов невелики, однако лучшим по этому показателю является регион под номером 1. Для него же определен самый узкий 95% доверительный интервал, а также самая высокая средняя прибыль на 200 лучших скважинах. Именно это делает этот регион наилучшим для разработки скважин.\n",
    "\n",
    "\n",
    "**РЕЗЮМЕ ВСЕГО ПРОЕКТА:**\n",
    "\n",
    "- Изучили предоставленные данные: 3 датасета, соответствующие 3м разным регионам добычи нефти. Целевым признаком для нас был столбец `product` - объём запасов в скважине (тыс. баррелей). Мы посмотрели на распределение этих объёмов. Какая-то предобработка данным не потребовалась, так как не было пропусков, неверных типов данных или выбросов. Также порядок между значениями в столбцах не сильно критично различается, поэтому не было произведено масштабирование.\n",
    "\n",
    "- Разбили каждый датафрейм на обучающую и валидационную выборки. Обучили модель - Линейную регрессию на данных для каждого региона. Получили средние запасы сырья в скважине по регионам, оценку RMSE для модели на каждом регионе.\n",
    "\n",
    "- Выяснили, какой объем скважины в среднем по региону должен быть, чтобы регион считался безубыточным - 111.11 тыс.баррелей. Средние значение, полученные для каждого региона ранее, не подходили под понятие безубыточных, так как не учитывалось то, что добыча производится из 200 лучших скважин.\n",
    "\n",
    "- При помощи процедуры bootstrap получили для каждого региона 95% доверительный интервал, среднюю прибыль и риски убытков. Тут уже была учтена необходимость исследовать лишь лучшие скважины. По результатам этого этапа исследования лучшим оказался регион_1. Он показал лучшие результаты по всем параметрам: \n",
    "\n",
    "    * самый высокий уровень средней прибыли: 515 222 773 рублей,\n",
    "    * самый узкий доверительный интервал: от 68 873 225 до 931 547 591 рублей\n",
    "    * самый низкий риск убытков: 1%"
   ]
  },
  {
   "cell_type": "markdown",
   "metadata": {},
   "source": [
    "\n",
    "<div class=\"alert alert-block alert-success\">\n",
    "<b>Успех:</b> Отлично, проведено детальное исследование и был выбран правильный регион. \n",
    "Всегда приятно наблюдать подробный и структурированный итоговый вывод в конце работы!\n",
    "</div>\n",
    "\n",
    "\n",
    "\n",
    "<div class=\"alert alert-block alert-info\">\n",
    "<b>Совет: </b> Если интересно изучить тему бутстрапа глубже - я оставлю  ниже несколько интересных и полезных ссылок по теме:\n",
    "        \n",
    "1. \"Bootstrap Hypothesis Testing in Statistics with Example\" \n",
    "        \n",
    "https://www.youtube.com/watch?v=9STZ7MxkNVg\n",
    "        \n",
    "2. \"How to Calculate Bootstrap Confidence Intervals For Machine Learning Results in Python\" \n",
    "        \n",
    "https://machinelearningmastery.com/calculate-bootstrap-confidence-intervals-machine-learning-results-python/\n",
    "        \n",
    "3. \"A Gentle Introduction to the Bootstrap Method\" \n",
    "\n",
    "https://machinelearningmastery.com/a-gentle-introduction-to-the-bootstrap-method/\n",
    "        \n",
    "4. \"An Introduction to the Bootstrap Method\" \n",
    "        \n",
    "https://towardsdatascience.com/an-introduction-to-the-bootstrap-method-58bcb51b4d60#:~:text=The%20basic%20idea%20of%20bootstrap,population%20mean)%20on%20sample%20data.&amp;text=A%20sample%20from%20population%20with%20sample%20size%20n\n",
    "        \n",
    "5. \"Bootstrapping and Resampling in Statistics with Example\" \n",
    "        \n",
    "        \n",
    "https://www.youtube.com/watch?v=O_Fj4q8lgmc\n",
    "</div>"
   ]
  },
  {
   "cell_type": "markdown",
   "metadata": {},
   "source": [
    "## Чек-лист готовности проекта"
   ]
  },
  {
   "cell_type": "markdown",
   "metadata": {},
   "source": [
    "Поставьте 'x' в выполненных пунктах. Далее нажмите Shift+Enter."
   ]
  },
  {
   "cell_type": "markdown",
   "metadata": {},
   "source": [
    "- [x]  Jupyter Notebook открыт\n",
    "- [x]  Весь код выполняется без ошибок\n",
    "- [x]  Ячейки с кодом расположены в порядке исполнения\n",
    "- [x]  Выполнен шаг 1: данные подготовлены\n",
    "- [x]  Выполнен шаг 2: модели обучены и проверены\n",
    "    - [x]  Данные корректно разбиты на обучающую и валидационную выборки\n",
    "    - [x]  Модели обучены, предсказания сделаны\n",
    "    - [x]  Предсказания и правильные ответы на валидационной выборке сохранены\n",
    "    - [x]  На экране напечатаны результаты\n",
    "    - [x]  Сделаны выводы\n",
    "- [x]  Выполнен шаг 3: проведена подготовка к расчёту прибыли\n",
    "    - [x]  Для всех ключевых значений созданы константы Python\n",
    "    - [x]  Посчитано минимальное среднее количество продукта в месторождениях региона, достаточное для разработки\n",
    "    - [x]  По предыдущему пункту сделаны выводы\n",
    "    - [x]  Написана функция расчёта прибыли\n",
    "- [x]  Выполнен шаг 4: посчитаны риски и прибыль\n",
    "    - [x]  Проведена процедура *Bootstrap*\n",
    "    - [x]  Все параметры бутстрепа соответствуют условию\n",
    "    - [x]  Найдены все нужные величины\n",
    "    - [x]  Предложен регион для разработки месторождения\n",
    "    - [x]  Выбор региона обоснован"
   ]
  },
  {
   "cell_type": "code",
   "execution_count": null,
   "metadata": {},
   "outputs": [],
   "source": []
  }
 ],
 "metadata": {
  "ExecuteTimeLog": [
   {
    "duration": 1528,
    "start_time": "2022-12-20T13:26:22.267Z"
   },
   {
    "duration": 4,
    "start_time": "2022-12-20T13:39:43.555Z"
   },
   {
    "duration": 1971,
    "start_time": "2022-12-20T13:39:44.347Z"
   },
   {
    "duration": 3,
    "start_time": "2022-12-20T13:47:29.607Z"
   },
   {
    "duration": 343,
    "start_time": "2022-12-20T13:48:09.743Z"
   },
   {
    "duration": 3,
    "start_time": "2022-12-20T13:48:16.291Z"
   },
   {
    "duration": 217,
    "start_time": "2022-12-20T13:48:16.930Z"
   },
   {
    "duration": 4,
    "start_time": "2022-12-20T13:48:29.342Z"
   },
   {
    "duration": 211,
    "start_time": "2022-12-20T13:48:29.899Z"
   },
   {
    "duration": 4,
    "start_time": "2022-12-20T13:48:51.715Z"
   },
   {
    "duration": 395,
    "start_time": "2022-12-20T13:48:52.222Z"
   },
   {
    "duration": 4,
    "start_time": "2022-12-20T13:48:52.858Z"
   },
   {
    "duration": 670,
    "start_time": "2022-12-20T13:48:53.710Z"
   },
   {
    "duration": 4,
    "start_time": "2022-12-20T13:49:12.155Z"
   },
   {
    "duration": 727,
    "start_time": "2022-12-20T13:49:14.166Z"
   },
   {
    "duration": 13,
    "start_time": "2022-12-20T13:58:11.978Z"
   },
   {
    "duration": 10,
    "start_time": "2022-12-20T13:58:21.258Z"
   },
   {
    "duration": 9,
    "start_time": "2022-12-20T13:59:36.047Z"
   },
   {
    "duration": 76,
    "start_time": "2022-12-20T13:59:45.246Z"
   },
   {
    "duration": 11,
    "start_time": "2022-12-20T13:59:53.142Z"
   },
   {
    "duration": 5,
    "start_time": "2022-12-20T14:00:10.006Z"
   },
   {
    "duration": 3,
    "start_time": "2022-12-20T14:03:29.614Z"
   },
   {
    "duration": 695,
    "start_time": "2022-12-20T14:03:30.345Z"
   },
   {
    "duration": 216,
    "start_time": "2022-12-20T14:03:40.702Z"
   },
   {
    "duration": 4,
    "start_time": "2022-12-20T14:04:20.495Z"
   },
   {
    "duration": 221,
    "start_time": "2022-12-20T14:04:22.858Z"
   },
   {
    "duration": 5,
    "start_time": "2022-12-20T14:04:56.675Z"
   },
   {
    "duration": 237,
    "start_time": "2022-12-20T14:04:57.317Z"
   },
   {
    "duration": 755,
    "start_time": "2022-12-20T14:05:38.909Z"
   },
   {
    "duration": 5,
    "start_time": "2022-12-20T14:09:09.571Z"
   },
   {
    "duration": 928,
    "start_time": "2022-12-20T14:09:11.391Z"
   },
   {
    "duration": 5,
    "start_time": "2022-12-20T14:10:05.441Z"
   },
   {
    "duration": 1102,
    "start_time": "2022-12-20T14:10:07.007Z"
   },
   {
    "duration": 4,
    "start_time": "2022-12-20T14:11:18.147Z"
   },
   {
    "duration": 844,
    "start_time": "2022-12-20T14:11:19.391Z"
   },
   {
    "duration": 9,
    "start_time": "2022-12-20T14:14:08.671Z"
   },
   {
    "duration": 6,
    "start_time": "2022-12-20T14:15:55.805Z"
   },
   {
    "duration": 4,
    "start_time": "2022-12-20T14:16:27.620Z"
   },
   {
    "duration": 1110,
    "start_time": "2022-12-20T14:16:28.184Z"
   },
   {
    "duration": 4,
    "start_time": "2022-12-20T14:56:15.987Z"
   },
   {
    "duration": 35,
    "start_time": "2022-12-20T14:56:48.027Z"
   },
   {
    "duration": 48,
    "start_time": "2022-12-20T15:26:35.058Z"
   },
   {
    "duration": 1510,
    "start_time": "2022-12-20T15:26:40.453Z"
   },
   {
    "duration": 1548,
    "start_time": "2022-12-20T15:26:41.965Z"
   },
   {
    "duration": 5,
    "start_time": "2022-12-20T15:26:43.515Z"
   },
   {
    "duration": 892,
    "start_time": "2022-12-20T15:26:43.522Z"
   },
   {
    "duration": 4,
    "start_time": "2022-12-20T15:26:44.416Z"
   },
   {
    "duration": 9,
    "start_time": "2022-12-20T15:26:44.421Z"
   },
   {
    "duration": 46,
    "start_time": "2022-12-20T15:26:44.432Z"
   },
   {
    "duration": 4,
    "start_time": "2022-12-20T15:26:44.479Z"
   },
   {
    "duration": 4,
    "start_time": "2022-12-20T15:30:31.191Z"
   },
   {
    "duration": 68,
    "start_time": "2022-12-20T15:32:04.946Z"
   },
   {
    "duration": 162,
    "start_time": "2022-12-20T15:32:21.718Z"
   },
   {
    "duration": 5,
    "start_time": "2022-12-20T15:33:00.970Z"
   },
   {
    "duration": 99,
    "start_time": "2022-12-20T15:33:01.483Z"
   },
   {
    "duration": 4,
    "start_time": "2022-12-20T15:33:18.174Z"
   },
   {
    "duration": 81,
    "start_time": "2022-12-20T15:33:19.406Z"
   },
   {
    "duration": 4,
    "start_time": "2022-12-20T15:33:30.687Z"
   },
   {
    "duration": 228,
    "start_time": "2022-12-20T15:33:31.150Z"
   },
   {
    "duration": 220,
    "start_time": "2022-12-20T15:34:09.259Z"
   },
   {
    "duration": 239,
    "start_time": "2022-12-20T15:36:27.242Z"
   },
   {
    "duration": 371,
    "start_time": "2022-12-20T15:38:10.611Z"
   },
   {
    "duration": 70,
    "start_time": "2022-12-20T15:38:41.235Z"
   },
   {
    "duration": 364,
    "start_time": "2022-12-20T15:39:01.815Z"
   },
   {
    "duration": 256,
    "start_time": "2022-12-20T15:39:19.727Z"
   },
   {
    "duration": 275,
    "start_time": "2022-12-20T15:39:26.707Z"
   },
   {
    "duration": 339,
    "start_time": "2022-12-20T15:39:43.144Z"
   },
   {
    "duration": 443,
    "start_time": "2022-12-20T15:39:55.644Z"
   },
   {
    "duration": 411,
    "start_time": "2022-12-20T15:40:09.467Z"
   },
   {
    "duration": 401,
    "start_time": "2022-12-20T15:41:13.286Z"
   },
   {
    "duration": 375,
    "start_time": "2022-12-20T15:45:33.315Z"
   },
   {
    "duration": 5,
    "start_time": "2022-12-20T15:45:45.974Z"
   },
   {
    "duration": 274,
    "start_time": "2022-12-20T15:47:33.322Z"
   },
   {
    "duration": 306,
    "start_time": "2022-12-20T15:47:40.274Z"
   },
   {
    "duration": 5,
    "start_time": "2022-12-20T15:49:48.454Z"
   },
   {
    "duration": 337,
    "start_time": "2022-12-20T15:49:55.454Z"
   },
   {
    "duration": 491,
    "start_time": "2022-12-20T15:50:04.586Z"
   },
   {
    "duration": 3,
    "start_time": "2022-12-20T17:21:48.487Z"
   },
   {
    "duration": 3,
    "start_time": "2022-12-20T17:50:44.123Z"
   },
   {
    "duration": 3,
    "start_time": "2022-12-20T17:52:28.331Z"
   },
   {
    "duration": 13,
    "start_time": "2022-12-20T18:24:09.415Z"
   },
   {
    "duration": 9,
    "start_time": "2022-12-20T18:24:41.799Z"
   },
   {
    "duration": 9,
    "start_time": "2022-12-20T18:26:06.024Z"
   },
   {
    "duration": 9,
    "start_time": "2022-12-20T18:26:27.202Z"
   },
   {
    "duration": 5,
    "start_time": "2022-12-20T18:53:50.210Z"
   },
   {
    "duration": 5,
    "start_time": "2022-12-20T18:55:48.426Z"
   },
   {
    "duration": 13,
    "start_time": "2022-12-20T18:59:39.979Z"
   },
   {
    "duration": 9,
    "start_time": "2022-12-20T19:00:19.902Z"
   },
   {
    "duration": 6,
    "start_time": "2022-12-20T19:21:20.886Z"
   },
   {
    "duration": 10,
    "start_time": "2022-12-20T19:23:32.568Z"
   },
   {
    "duration": 37,
    "start_time": "2022-12-20T19:29:51.967Z"
   },
   {
    "duration": 4,
    "start_time": "2022-12-20T19:30:17.489Z"
   },
   {
    "duration": 382,
    "start_time": "2022-12-20T19:30:18.011Z"
   },
   {
    "duration": 5,
    "start_time": "2022-12-20T19:30:18.559Z"
   },
   {
    "duration": 924,
    "start_time": "2022-12-20T19:30:20.435Z"
   },
   {
    "duration": 5,
    "start_time": "2022-12-20T19:30:22.427Z"
   },
   {
    "duration": 4,
    "start_time": "2022-12-20T19:30:24.057Z"
   },
   {
    "duration": 27,
    "start_time": "2022-12-20T19:30:26.067Z"
   },
   {
    "duration": 4,
    "start_time": "2022-12-20T19:30:26.515Z"
   },
   {
    "duration": 163,
    "start_time": "2022-12-20T19:30:27.835Z"
   },
   {
    "duration": 3,
    "start_time": "2022-12-20T19:30:42.316Z"
   },
   {
    "duration": 4,
    "start_time": "2022-12-20T19:30:42.539Z"
   },
   {
    "duration": 9,
    "start_time": "2022-12-20T19:30:42.966Z"
   },
   {
    "duration": 3,
    "start_time": "2022-12-20T19:30:47.519Z"
   },
   {
    "duration": 9,
    "start_time": "2022-12-20T19:30:49.571Z"
   },
   {
    "duration": 29,
    "start_time": "2022-12-20T19:30:52.768Z"
   },
   {
    "duration": 5,
    "start_time": "2022-12-20T19:31:12.319Z"
   },
   {
    "duration": 17,
    "start_time": "2022-12-20T19:31:13.879Z"
   },
   {
    "duration": 3,
    "start_time": "2022-12-20T19:34:57.823Z"
   },
   {
    "duration": 5,
    "start_time": "2022-12-20T19:35:39.306Z"
   },
   {
    "duration": 4,
    "start_time": "2022-12-20T19:35:42.095Z"
   },
   {
    "duration": 1481,
    "start_time": "2022-12-20T19:35:43.115Z"
   },
   {
    "duration": 4,
    "start_time": "2022-12-20T19:35:55.507Z"
   },
   {
    "duration": 3890,
    "start_time": "2022-12-20T19:35:56.103Z"
   },
   {
    "duration": 4,
    "start_time": "2022-12-20T19:38:21.271Z"
   },
   {
    "duration": 7,
    "start_time": "2022-12-20T19:41:24.198Z"
   },
   {
    "duration": 4,
    "start_time": "2022-12-20T19:42:30.423Z"
   },
   {
    "duration": 3024,
    "start_time": "2022-12-20T21:55:48.657Z"
   },
   {
    "duration": 370,
    "start_time": "2022-12-20T21:55:51.683Z"
   },
   {
    "duration": 4,
    "start_time": "2022-12-20T21:55:52.054Z"
   },
   {
    "duration": 807,
    "start_time": "2022-12-20T21:55:52.060Z"
   },
   {
    "duration": 4,
    "start_time": "2022-12-20T21:55:52.877Z"
   },
   {
    "duration": 5,
    "start_time": "2022-12-20T21:55:52.883Z"
   },
   {
    "duration": 36,
    "start_time": "2022-12-20T21:55:52.890Z"
   },
   {
    "duration": 5,
    "start_time": "2022-12-20T21:55:52.927Z"
   },
   {
    "duration": 445,
    "start_time": "2022-12-20T21:55:52.934Z"
   },
   {
    "duration": 5,
    "start_time": "2022-12-20T21:55:53.381Z"
   },
   {
    "duration": 6,
    "start_time": "2022-12-20T21:55:53.388Z"
   },
   {
    "duration": 12,
    "start_time": "2022-12-20T21:55:53.396Z"
   },
   {
    "duration": 9,
    "start_time": "2022-12-20T21:55:53.409Z"
   },
   {
    "duration": 10,
    "start_time": "2022-12-20T21:55:53.420Z"
   },
   {
    "duration": 7,
    "start_time": "2022-12-20T21:55:53.431Z"
   },
   {
    "duration": 8,
    "start_time": "2022-12-20T21:55:53.439Z"
   },
   {
    "duration": 3888,
    "start_time": "2022-12-20T21:55:53.448Z"
   },
   {
    "duration": 4,
    "start_time": "2022-12-20T21:55:57.337Z"
   },
   {
    "duration": 8,
    "start_time": "2022-12-20T21:55:57.343Z"
   },
   {
    "duration": 8,
    "start_time": "2022-12-20T21:55:57.352Z"
   },
   {
    "duration": 60,
    "start_time": "2022-12-21T07:55:44.165Z"
   },
   {
    "duration": 46,
    "start_time": "2022-12-21T07:55:58.216Z"
   },
   {
    "duration": 53,
    "start_time": "2022-12-21T07:56:03.992Z"
   },
   {
    "duration": 45,
    "start_time": "2022-12-21T07:56:16.063Z"
   },
   {
    "duration": 60,
    "start_time": "2022-12-21T07:57:37.745Z"
   },
   {
    "duration": 1658,
    "start_time": "2022-12-21T07:59:02.619Z"
   },
   {
    "duration": 1015,
    "start_time": "2022-12-21T07:59:04.279Z"
   },
   {
    "duration": 6,
    "start_time": "2022-12-21T07:59:05.296Z"
   },
   {
    "duration": 963,
    "start_time": "2022-12-21T07:59:05.304Z"
   },
   {
    "duration": 5,
    "start_time": "2022-12-21T07:59:06.269Z"
   },
   {
    "duration": 7,
    "start_time": "2022-12-21T07:59:08.552Z"
   },
   {
    "duration": 33,
    "start_time": "2022-12-21T07:59:08.979Z"
   },
   {
    "duration": 4,
    "start_time": "2022-12-21T07:59:09.407Z"
   },
   {
    "duration": 421,
    "start_time": "2022-12-21T07:59:10.023Z"
   },
   {
    "duration": 3,
    "start_time": "2022-12-21T07:59:15.611Z"
   },
   {
    "duration": 55,
    "start_time": "2022-12-21T07:59:18.791Z"
   },
   {
    "duration": 44,
    "start_time": "2022-12-21T07:59:52.123Z"
   },
   {
    "duration": 122,
    "start_time": "2022-12-21T08:00:03.083Z"
   },
   {
    "duration": 4,
    "start_time": "2022-12-21T08:00:14.898Z"
   },
   {
    "duration": 4,
    "start_time": "2022-12-21T08:02:38.332Z"
   },
   {
    "duration": 4,
    "start_time": "2022-12-21T08:03:09.498Z"
   },
   {
    "duration": 12,
    "start_time": "2022-12-21T08:03:15.874Z"
   },
   {
    "duration": 5,
    "start_time": "2022-12-21T08:04:01.652Z"
   },
   {
    "duration": 4,
    "start_time": "2022-12-21T08:04:10.369Z"
   },
   {
    "duration": 5,
    "start_time": "2022-12-21T08:04:10.955Z"
   },
   {
    "duration": 5,
    "start_time": "2022-12-21T08:04:45.843Z"
   },
   {
    "duration": 3,
    "start_time": "2022-12-21T08:04:47.778Z"
   },
   {
    "duration": 12,
    "start_time": "2022-12-21T08:04:48.415Z"
   },
   {
    "duration": 4,
    "start_time": "2022-12-21T08:04:53.158Z"
   },
   {
    "duration": 3,
    "start_time": "2022-12-21T08:04:56.210Z"
   },
   {
    "duration": 11,
    "start_time": "2022-12-21T08:04:56.719Z"
   },
   {
    "duration": 5,
    "start_time": "2022-12-21T08:04:58.622Z"
   },
   {
    "duration": 4157,
    "start_time": "2022-12-21T08:05:01.691Z"
   },
   {
    "duration": 8,
    "start_time": "2022-12-21T08:05:05.850Z"
   },
   {
    "duration": 6,
    "start_time": "2022-12-21T08:05:12.166Z"
   },
   {
    "duration": 3,
    "start_time": "2022-12-21T08:05:14.058Z"
   },
   {
    "duration": 4,
    "start_time": "2022-12-21T08:05:55.074Z"
   },
   {
    "duration": 5,
    "start_time": "2022-12-21T08:06:02.286Z"
   },
   {
    "duration": 12,
    "start_time": "2022-12-21T08:06:05.282Z"
   },
   {
    "duration": 4,
    "start_time": "2022-12-21T08:06:07.918Z"
   },
   {
    "duration": 6,
    "start_time": "2022-12-21T08:06:11.114Z"
   },
   {
    "duration": 5,
    "start_time": "2022-12-21T08:06:11.435Z"
   },
   {
    "duration": 5,
    "start_time": "2022-12-21T08:06:11.879Z"
   },
   {
    "duration": 4357,
    "start_time": "2022-12-21T08:06:15.236Z"
   },
   {
    "duration": 4,
    "start_time": "2022-12-21T08:06:19.595Z"
   },
   {
    "duration": 7,
    "start_time": "2022-12-21T08:06:29.271Z"
   },
   {
    "duration": 4,
    "start_time": "2022-12-21T08:06:30.778Z"
   }
  ],
  "kernelspec": {
   "display_name": "Python 3 (ipykernel)",
   "language": "python",
   "name": "python3"
  },
  "language_info": {
   "codemirror_mode": {
    "name": "ipython",
    "version": 3
   },
   "file_extension": ".py",
   "mimetype": "text/x-python",
   "name": "python",
   "nbconvert_exporter": "python",
   "pygments_lexer": "ipython3",
   "version": "3.9.5"
  },
  "toc": {
   "base_numbering": 1,
   "nav_menu": {},
   "number_sections": true,
   "sideBar": true,
   "skip_h1_title": true,
   "title_cell": "Table of Contents",
   "title_sidebar": "Contents",
   "toc_cell": false,
   "toc_position": {},
   "toc_section_display": true,
   "toc_window_display": false
  }
 },
 "nbformat": 4,
 "nbformat_minor": 2
}
